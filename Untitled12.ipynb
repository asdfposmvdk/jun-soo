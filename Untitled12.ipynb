{
  "nbformat": 4,
  "nbformat_minor": 0,
  "metadata": {
    "colab": {
      "name": "Untitled12.ipynb",
      "provenance": [],
      "authorship_tag": "ABX9TyP/pn3xzWElgeEEek9422rm",
      "include_colab_link": true
    },
    "kernelspec": {
      "name": "python3",
      "display_name": "Python 3"
    },
    "language_info": {
      "name": "python"
    }
  },
  "cells": [
    {
      "cell_type": "markdown",
      "metadata": {
        "id": "view-in-github",
        "colab_type": "text"
      },
      "source": [
        "<a href=\"https://colab.research.google.com/github/asdfposmvdk/jun-soo/blob/main/Untitled12.ipynb\" target=\"_parent\"><img src=\"https://colab.research.google.com/assets/colab-badge.svg\" alt=\"Open In Colab\"/></a>"
      ]
    },
    {
      "cell_type": "code",
      "execution_count": null,
      "metadata": {
        "id": "gKC3dh6e_5ct"
      },
      "outputs": [],
      "source": [
        "#2022학년도 1학년 1학기 프로그래밍(파이썬)수행평가\n",
        "#한양공업고등학교 1학년 12반 13번 이준수"
      ]
    },
    {
      "cell_type": "code",
      "source": [
        "삼성전자=50000\n",
        "삼성전자*=10\n",
        "print (\"총평가금액\")\n",
        "print(삼성전자)"
      ],
      "metadata": {
        "colab": {
          "base_uri": "https://localhost:8080/"
        },
        "id": "zWgzSTgXLR3Y",
        "outputId": "bb38a4b7-4596-49c0-931f-b4d90c7f9dbc"
      },
      "execution_count": 33,
      "outputs": [
        {
          "output_type": "stream",
          "name": "stdout",
          "text": [
            "총평가금액\n",
            "500000\n"
          ]
        }
      ]
    },
    {
      "cell_type": "code",
      "source": [
        "year=\"2020\"\n",
        "year=2020\n",
        "print(type(year))\n",
        "print(int(year)-1)\n",
        "print(int(year)-2)\n",
        "print(int(year)-3)"
      ],
      "metadata": {
        "colab": {
          "base_uri": "https://localhost:8080/"
        },
        "id": "pFQAUDu_NMOq",
        "outputId": "58437f90-1e56-4c03-a38f-2fbabec8da72"
      },
      "execution_count": 65,
      "outputs": [
        {
          "output_type": "stream",
          "name": "stdout",
          "text": [
            "<class 'int'>\n",
            "2019\n",
            "2018\n",
            "2017\n"
          ]
        }
      ]
    },
    {
      "cell_type": "code",
      "source": [
        "string=\"홀짝홀짝홀짝\"\n",
        "print(string[0],string[2],string[4])"
      ],
      "metadata": {
        "colab": {
          "base_uri": "https://localhost:8080/"
        },
        "id": "FruEERB1OkGJ",
        "outputId": "19db1e03-2323-41ac-dbd8-30b860783657"
      },
      "execution_count": 58,
      "outputs": [
        {
          "output_type": "stream",
          "name": "stdout",
          "text": [
            "홀 홀 홀\n"
          ]
        }
      ]
    },
    {
      "cell_type": "code",
      "source": [
        "string=\"python\"\n",
        "print(string[-1:],string[-2:-1],string[-3:-2],string[-4:-3],string[-5:-4],string[-6:-5],string[-7:-6])"
      ],
      "metadata": {
        "colab": {
          "base_uri": "https://localhost:8080/"
        },
        "id": "PSZzwYBOPJG0",
        "outputId": "b15c6ed0-56d3-4c24-f506-eb6c4265242a"
      },
      "execution_count": 57,
      "outputs": [
        {
          "output_type": "stream",
          "name": "stdout",
          "text": [
            "n o h t y p \n"
          ]
        }
      ]
    },
    {
      "cell_type": "code",
      "source": [
        "movie_rank=['닥터 스트래인지','스플릿','럭키','배트맨']\n",
        "movie_rank.insert(1,'슈퍼맨')\n",
        "movie_rank"
      ],
      "metadata": {
        "colab": {
          "base_uri": "https://localhost:8080/"
        },
        "id": "JYtEIml5SQkW",
        "outputId": "85234838-6899-4216-90f9-0802a9a0b197"
      },
      "execution_count": 77,
      "outputs": [
        {
          "output_type": "execute_result",
          "data": {
            "text/plain": [
              "['닥터 스트래인지', '슈퍼맨', '스플릿', '럭키', '배트맨']"
            ]
          },
          "metadata": {},
          "execution_count": 77
        }
      ]
    },
    {
      "cell_type": "code",
      "source": [
        "nums=[1,2,3,4,5,6,7,8,9,10]\n",
        "nums.clear()\n",
        "nums.extend([1,3,5,7,9])\n",
        "nums"
      ],
      "metadata": {
        "colab": {
          "base_uri": "https://localhost:8080/"
        },
        "id": "_OH3jYBXQNU6",
        "outputId": "8834ddb6-8761-47b8-995d-c3a72921652f"
      },
      "execution_count": 74,
      "outputs": [
        {
          "output_type": "execute_result",
          "data": {
            "text/plain": [
              "[1, 3, 5, 7, 9]"
            ]
          },
          "metadata": {},
          "execution_count": 74
        }
      ]
    },
    {
      "cell_type": "code",
      "source": [
        "data=[2,4,3,1,5,10,9]\n",
        "print([data[3],data[0],data[2],data[1],data[4],data[6],data[5]])"
      ],
      "metadata": {
        "colab": {
          "base_uri": "https://localhost:8080/"
        },
        "id": "Wvz8O9XCS3ku",
        "outputId": "ec7cbd77-f571-41c8-f925-50a5acae9ee4"
      },
      "execution_count": 81,
      "outputs": [
        {
          "output_type": "stream",
          "name": "stdout",
          "text": [
            "[1, 2, 3, 4, 5, 9, 10]\n"
          ]
        }
      ]
    },
    {
      "cell_type": "code",
      "source": [
        "name1=\"김민수\"\n",
        "age1=10\n",
        "name2=\"이철희\"\n",
        "age2=13\n",
        "print(\"이름:\",name1,\"나이:\",age1)\n",
        "print(\"이름:\",name2,\"나이:\",age2)"
      ],
      "metadata": {
        "colab": {
          "base_uri": "https://localhost:8080/"
        },
        "id": "wT6CY4XJTtVE",
        "outputId": "7c78e739-13f3-4f98-9a74-0ba67724bd4a"
      },
      "execution_count": 84,
      "outputs": [
        {
          "output_type": "stream",
          "name": "stdout",
          "text": [
            "이름: 김민수 나이: 10\n",
            "이름: 이철희 나이: 13\n"
          ]
        }
      ]
    }
  ]
}